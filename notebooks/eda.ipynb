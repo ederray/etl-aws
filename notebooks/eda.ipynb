{
 "cells": [
  {
   "cell_type": "markdown",
   "id": "bbec3452",
   "metadata": {},
   "source": []
  },
  {
   "cell_type": "markdown",
   "id": "15460dd8",
   "metadata": {},
   "source": [
    "## Setup"
   ]
  },
  {
   "cell_type": "code",
   "execution_count": null,
   "id": "d99dfc3e",
   "metadata": {},
   "outputs": [],
   "source": [
    "# carregamento das bibliotecas\n",
    "import sys\n",
    "import os\n",
    "import pandas as pd \n",
    "from datetime import date, timedelta\n",
    "# Adiciona a pasta raiz do projeto (onde está a pasta src) ao sys.path\n",
    "sys.path.append(os.path.abspath(os.path.join(\"..\")))\n",
    "from src.config.logging_config import setup_logging\n",
    "from src.data.load_data import carregar_dataset\n",
    "from src.etl.webscrapping import gerar_tabela_cotacao_diaria_ibovespa\n",
    "from src.data.preprocessing import *\n",
    "from src.data.visualize import *"
   ]
  },
  {
   "cell_type": "code",
   "execution_count": 453,
   "id": "f9826195",
   "metadata": {},
   "outputs": [],
   "source": [
    "# configuração do logging\n",
    "setup_logging()\n"
   ]
  },
  {
   "cell_type": "markdown",
   "id": "56373983",
   "metadata": {},
   "source": [
    "## Carregamento dos dados"
   ]
  },
  {
   "cell_type": "code",
   "execution_count": 454,
   "id": "a2cd6377",
   "metadata": {},
   "outputs": [
    {
     "name": "stdout",
     "output_type": "stream",
     "text": [
      "2025-08-10 16:08:03,459 | INFO | src.data.load_data | Captura do arquivo csv no path:../data/external/tbl_acoes_ibovespa.csv\n"
     ]
    },
    {
     "data": {
      "text/html": [
       "<div>\n",
       "<style scoped>\n",
       "    .dataframe tbody tr th:only-of-type {\n",
       "        vertical-align: middle;\n",
       "    }\n",
       "\n",
       "    .dataframe tbody tr th {\n",
       "        vertical-align: top;\n",
       "    }\n",
       "\n",
       "    .dataframe thead th {\n",
       "        text-align: right;\n",
       "    }\n",
       "</style>\n",
       "<table border=\"1\" class=\"dataframe\">\n",
       "  <thead>\n",
       "    <tr style=\"text-align: right;\">\n",
       "      <th></th>\n",
       "      <th>codigo</th>\n",
       "      <th>tipo</th>\n",
       "      <th>empresa</th>\n",
       "      <th>slug</th>\n",
       "      <th>setor</th>\n",
       "      <th>industria</th>\n",
       "      <th>ticker</th>\n",
       "    </tr>\n",
       "  </thead>\n",
       "  <tbody>\n",
       "    <tr>\n",
       "      <th>0</th>\n",
       "      <td>ABEV3</td>\n",
       "      <td>ON</td>\n",
       "      <td>Ambev S/A</td>\n",
       "      <td>ambev-abev3</td>\n",
       "      <td>Consumo não-cíclico</td>\n",
       "      <td>Bebidas</td>\n",
       "      <td>ABEV3.SA</td>\n",
       "    </tr>\n",
       "    <tr>\n",
       "      <th>1</th>\n",
       "      <td>ALOS3</td>\n",
       "      <td>ON</td>\n",
       "      <td>Allos</td>\n",
       "      <td>alos3</td>\n",
       "      <td>Imóveis</td>\n",
       "      <td>Atividades Imobiliárias</td>\n",
       "      <td>ALOS3.SA</td>\n",
       "    </tr>\n",
       "    <tr>\n",
       "      <th>2</th>\n",
       "      <td>ASAI3</td>\n",
       "      <td>ON</td>\n",
       "      <td>Assaí­ Atacadista</td>\n",
       "      <td>assai-asai3</td>\n",
       "      <td>Consumo não-cíclico</td>\n",
       "      <td>Varejo de alimentos e medicamentos</td>\n",
       "      <td>ASAI3.SA</td>\n",
       "    </tr>\n",
       "    <tr>\n",
       "      <th>3</th>\n",
       "      <td>AURE3</td>\n",
       "      <td>ON</td>\n",
       "      <td>Auren</td>\n",
       "      <td>auren-energia-aure3</td>\n",
       "      <td>Utilidades</td>\n",
       "      <td>Empresas independentes e concessionárias elétr...</td>\n",
       "      <td>AURE3.SA</td>\n",
       "    </tr>\n",
       "    <tr>\n",
       "      <th>4</th>\n",
       "      <td>AZZA3</td>\n",
       "      <td>ON</td>\n",
       "      <td>Azzas 2154</td>\n",
       "      <td>azzas-2154-azza3</td>\n",
       "      <td>Consumo cíclico</td>\n",
       "      <td>Varejistas especializados</td>\n",
       "      <td>AZZA3.SA</td>\n",
       "    </tr>\n",
       "    <tr>\n",
       "      <th>...</th>\n",
       "      <td>...</td>\n",
       "      <td>...</td>\n",
       "      <td>...</td>\n",
       "      <td>...</td>\n",
       "      <td>...</td>\n",
       "      <td>...</td>\n",
       "      <td>...</td>\n",
       "    </tr>\n",
       "    <tr>\n",
       "      <th>79</th>\n",
       "      <td>CPLE6</td>\n",
       "      <td>PNB</td>\n",
       "      <td>Companhia Paranaense de Energia COPEL</td>\n",
       "      <td>copel-pnb</td>\n",
       "      <td>Utilidades</td>\n",
       "      <td>Empresas independentes e concessionárias elétr...</td>\n",
       "      <td>CPLE6.SA</td>\n",
       "    </tr>\n",
       "    <tr>\n",
       "      <th>80</th>\n",
       "      <td>TIMS3</td>\n",
       "      <td>ON</td>\n",
       "      <td>TIM SA</td>\n",
       "      <td>tim-part-s-a-on-nm</td>\n",
       "      <td>Tecnologia</td>\n",
       "      <td>Serviços de telecomunicação</td>\n",
       "      <td>TIMS3.SA</td>\n",
       "    </tr>\n",
       "    <tr>\n",
       "      <th>81</th>\n",
       "      <td>VAMO3</td>\n",
       "      <td>ON</td>\n",
       "      <td>Grupo Vamos</td>\n",
       "      <td>grupo-vamos-sa</td>\n",
       "      <td>Indústria</td>\n",
       "      <td>Serviços de frete e logística</td>\n",
       "      <td>VAMO3.SA</td>\n",
       "    </tr>\n",
       "    <tr>\n",
       "      <th>82</th>\n",
       "      <td>VBBR3</td>\n",
       "      <td>ON</td>\n",
       "      <td>Vibra Energia SA</td>\n",
       "      <td>petrobras-distribuidora</td>\n",
       "      <td>Energia</td>\n",
       "      <td>Gás e Petróleo</td>\n",
       "      <td>VBBR3.SA</td>\n",
       "    </tr>\n",
       "    <tr>\n",
       "      <th>83</th>\n",
       "      <td>VIVA3</td>\n",
       "      <td>ON</td>\n",
       "      <td>Vivara Participações SA</td>\n",
       "      <td>vivara-participacoes-sa</td>\n",
       "      <td>Consumo cíclico</td>\n",
       "      <td>Varejistas especializados</td>\n",
       "      <td>VIVA3.SA</td>\n",
       "    </tr>\n",
       "  </tbody>\n",
       "</table>\n",
       "<p>84 rows × 7 columns</p>\n",
       "</div>"
      ],
      "text/plain": [
       "   codigo tipo                                 empresa  \\\n",
       "0   ABEV3   ON                               Ambev S/A   \n",
       "1   ALOS3   ON                                   Allos   \n",
       "2   ASAI3   ON                       Assaí­ Atacadista   \n",
       "3   AURE3   ON                                   Auren   \n",
       "4   AZZA3   ON                              Azzas 2154   \n",
       "..    ...  ...                                     ...   \n",
       "79  CPLE6  PNB   Companhia Paranaense de Energia COPEL   \n",
       "80  TIMS3   ON                                  TIM SA   \n",
       "81  VAMO3   ON                             Grupo Vamos   \n",
       "82  VBBR3   ON                        Vibra Energia SA   \n",
       "83  VIVA3   ON                 Vivara Participações SA   \n",
       "\n",
       "                       slug                setor  \\\n",
       "0               ambev-abev3  Consumo não-cíclico   \n",
       "1                     alos3              Imóveis   \n",
       "2               assai-asai3  Consumo não-cíclico   \n",
       "3       auren-energia-aure3           Utilidades   \n",
       "4          azzas-2154-azza3      Consumo cíclico   \n",
       "..                      ...                  ...   \n",
       "79                copel-pnb           Utilidades   \n",
       "80       tim-part-s-a-on-nm           Tecnologia   \n",
       "81           grupo-vamos-sa            Indústria   \n",
       "82  petrobras-distribuidora              Energia   \n",
       "83  vivara-participacoes-sa      Consumo cíclico   \n",
       "\n",
       "                                            industria    ticker  \n",
       "0                                             Bebidas  ABEV3.SA  \n",
       "1                             Atividades Imobiliárias  ALOS3.SA  \n",
       "2                  Varejo de alimentos e medicamentos  ASAI3.SA  \n",
       "3   Empresas independentes e concessionárias elétr...  AURE3.SA  \n",
       "4                           Varejistas especializados  AZZA3.SA  \n",
       "..                                                ...       ...  \n",
       "79  Empresas independentes e concessionárias elétr...  CPLE6.SA  \n",
       "80                        Serviços de telecomunicação  TIMS3.SA  \n",
       "81                      Serviços de frete e logística  VAMO3.SA  \n",
       "82                                     Gás e Petróleo  VBBR3.SA  \n",
       "83                          Varejistas especializados  VIVA3.SA  \n",
       "\n",
       "[84 rows x 7 columns]"
      ]
     },
     "execution_count": 454,
     "metadata": {},
     "output_type": "execute_result"
    }
   ],
   "source": [
    "# carregamento da tabela de ações componentes do ibovespa com dados  setorais\n",
    "tbl_carteira_ibovespa = carregar_dataset(path='../data/external/tbl_acoes_ibovespa.csv')\n",
    "tbl_carteira_ibovespa"
   ]
  },
  {
   "cell_type": "code",
   "execution_count": 455,
   "id": "273c2382",
   "metadata": {},
   "outputs": [
    {
     "name": "stdout",
     "output_type": "stream",
     "text": [
      "2025-08-10 16:08:03,492 | INFO | src.data.load_data | Captura do arquivo csv no path:../data/raw/tbl_acoes_ibovespa_historico_nova_rodada.csv\n"
     ]
    },
    {
     "data": {
      "text/html": [
       "<div>\n",
       "<style scoped>\n",
       "    .dataframe tbody tr th:only-of-type {\n",
       "        vertical-align: middle;\n",
       "    }\n",
       "\n",
       "    .dataframe tbody tr th {\n",
       "        vertical-align: top;\n",
       "    }\n",
       "\n",
       "    .dataframe thead th {\n",
       "        text-align: right;\n",
       "    }\n",
       "</style>\n",
       "<table border=\"1\" class=\"dataframe\">\n",
       "  <thead>\n",
       "    <tr style=\"text-align: right;\">\n",
       "      <th></th>\n",
       "      <th>Date</th>\n",
       "      <th>ticker</th>\n",
       "      <th>Open</th>\n",
       "      <th>High</th>\n",
       "      <th>Low</th>\n",
       "      <th>Close</th>\n",
       "      <th>Volume</th>\n",
       "      <th>Dividends</th>\n",
       "      <th>Stock Splits</th>\n",
       "      <th>trailingPE</th>\n",
       "      <th>priceToBook</th>\n",
       "      <th>returnOnEquity</th>\n",
       "      <th>profitMargins</th>\n",
       "      <th>revenueGrowth</th>\n",
       "      <th>dividendYield</th>\n",
       "      <th>totalDebt</th>\n",
       "      <th>freeCashflow</th>\n",
       "    </tr>\n",
       "  </thead>\n",
       "  <tbody>\n",
       "    <tr>\n",
       "      <th>19761</th>\n",
       "      <td>2025-07-18 00:00:00-03:00</td>\n",
       "      <td>VIVA3</td>\n",
       "      <td>24.990000</td>\n",
       "      <td>25.830000</td>\n",
       "      <td>24.430000</td>\n",
       "      <td>25.580000</td>\n",
       "      <td>8006800</td>\n",
       "      <td>0.0</td>\n",
       "      <td>0.0</td>\n",
       "      <td>8.745981</td>\n",
       "      <td>2.447804</td>\n",
       "      <td>0.31979</td>\n",
       "      <td>0.27443</td>\n",
       "      <td>0.208</td>\n",
       "      <td>2.44</td>\n",
       "      <td>1063061696</td>\n",
       "      <td>-336666272.0</td>\n",
       "    </tr>\n",
       "    <tr>\n",
       "      <th>19762</th>\n",
       "      <td>2025-07-21 00:00:00-03:00</td>\n",
       "      <td>VIVA3</td>\n",
       "      <td>25.580000</td>\n",
       "      <td>26.000000</td>\n",
       "      <td>25.290001</td>\n",
       "      <td>25.700001</td>\n",
       "      <td>4756700</td>\n",
       "      <td>0.0</td>\n",
       "      <td>0.0</td>\n",
       "      <td>8.745981</td>\n",
       "      <td>2.447804</td>\n",
       "      <td>0.31979</td>\n",
       "      <td>0.27443</td>\n",
       "      <td>0.208</td>\n",
       "      <td>2.44</td>\n",
       "      <td>1063061696</td>\n",
       "      <td>-336666272.0</td>\n",
       "    </tr>\n",
       "    <tr>\n",
       "      <th>19763</th>\n",
       "      <td>2025-07-22 00:00:00-03:00</td>\n",
       "      <td>VIVA3</td>\n",
       "      <td>25.730000</td>\n",
       "      <td>25.879999</td>\n",
       "      <td>24.790001</td>\n",
       "      <td>24.790001</td>\n",
       "      <td>3152000</td>\n",
       "      <td>0.0</td>\n",
       "      <td>0.0</td>\n",
       "      <td>8.745981</td>\n",
       "      <td>2.447804</td>\n",
       "      <td>0.31979</td>\n",
       "      <td>0.27443</td>\n",
       "      <td>0.208</td>\n",
       "      <td>2.44</td>\n",
       "      <td>1063061696</td>\n",
       "      <td>-336666272.0</td>\n",
       "    </tr>\n",
       "    <tr>\n",
       "      <th>19764</th>\n",
       "      <td>2025-07-23 00:00:00-03:00</td>\n",
       "      <td>VIVA3</td>\n",
       "      <td>24.700001</td>\n",
       "      <td>25.570000</td>\n",
       "      <td>24.420000</td>\n",
       "      <td>25.389999</td>\n",
       "      <td>1841600</td>\n",
       "      <td>0.0</td>\n",
       "      <td>0.0</td>\n",
       "      <td>8.745981</td>\n",
       "      <td>2.447804</td>\n",
       "      <td>0.31979</td>\n",
       "      <td>0.27443</td>\n",
       "      <td>0.208</td>\n",
       "      <td>2.44</td>\n",
       "      <td>1063061696</td>\n",
       "      <td>-336666272.0</td>\n",
       "    </tr>\n",
       "    <tr>\n",
       "      <th>19765</th>\n",
       "      <td>2025-07-24 00:00:00-03:00</td>\n",
       "      <td>VIVA3</td>\n",
       "      <td>25.080000</td>\n",
       "      <td>25.350000</td>\n",
       "      <td>24.910000</td>\n",
       "      <td>25.049999</td>\n",
       "      <td>1806600</td>\n",
       "      <td>0.0</td>\n",
       "      <td>0.0</td>\n",
       "      <td>8.745981</td>\n",
       "      <td>2.447804</td>\n",
       "      <td>0.31979</td>\n",
       "      <td>0.27443</td>\n",
       "      <td>0.208</td>\n",
       "      <td>2.44</td>\n",
       "      <td>1063061696</td>\n",
       "      <td>-336666272.0</td>\n",
       "    </tr>\n",
       "  </tbody>\n",
       "</table>\n",
       "</div>"
      ],
      "text/plain": [
       "                            Date ticker       Open       High        Low  \\\n",
       "19761  2025-07-18 00:00:00-03:00  VIVA3  24.990000  25.830000  24.430000   \n",
       "19762  2025-07-21 00:00:00-03:00  VIVA3  25.580000  26.000000  25.290001   \n",
       "19763  2025-07-22 00:00:00-03:00  VIVA3  25.730000  25.879999  24.790001   \n",
       "19764  2025-07-23 00:00:00-03:00  VIVA3  24.700001  25.570000  24.420000   \n",
       "19765  2025-07-24 00:00:00-03:00  VIVA3  25.080000  25.350000  24.910000   \n",
       "\n",
       "           Close   Volume  Dividends  Stock Splits  trailingPE  priceToBook  \\\n",
       "19761  25.580000  8006800        0.0           0.0    8.745981     2.447804   \n",
       "19762  25.700001  4756700        0.0           0.0    8.745981     2.447804   \n",
       "19763  24.790001  3152000        0.0           0.0    8.745981     2.447804   \n",
       "19764  25.389999  1841600        0.0           0.0    8.745981     2.447804   \n",
       "19765  25.049999  1806600        0.0           0.0    8.745981     2.447804   \n",
       "\n",
       "       returnOnEquity  profitMargins  revenueGrowth  dividendYield  \\\n",
       "19761         0.31979        0.27443          0.208           2.44   \n",
       "19762         0.31979        0.27443          0.208           2.44   \n",
       "19763         0.31979        0.27443          0.208           2.44   \n",
       "19764         0.31979        0.27443          0.208           2.44   \n",
       "19765         0.31979        0.27443          0.208           2.44   \n",
       "\n",
       "        totalDebt  freeCashflow  \n",
       "19761  1063061696  -336666272.0  \n",
       "19762  1063061696  -336666272.0  \n",
       "19763  1063061696  -336666272.0  \n",
       "19764  1063061696  -336666272.0  \n",
       "19765  1063061696  -336666272.0  "
      ]
     },
     "execution_count": 455,
     "metadata": {},
     "output_type": "execute_result"
    }
   ],
   "source": [
    "# carregamento da base historica de ações componentes do ibovespa para validação dos dados\n",
    "tbl_cotacao_ibovespa = carregar_dataset(path='../data/raw/tbl_acoes_ibovespa_historico_nova_rodada.csv', sep=',')\n",
    "tbl_cotacao_ibovespa.tail()"
   ]
  },
  {
   "cell_type": "code",
   "execution_count": 456,
   "id": "15c354c2",
   "metadata": {},
   "outputs": [
    {
     "data": {
      "text/html": [
       "<div>\n",
       "<style scoped>\n",
       "    .dataframe tbody tr th:only-of-type {\n",
       "        vertical-align: middle;\n",
       "    }\n",
       "\n",
       "    .dataframe tbody tr th {\n",
       "        vertical-align: top;\n",
       "    }\n",
       "\n",
       "    .dataframe thead th {\n",
       "        text-align: right;\n",
       "    }\n",
       "</style>\n",
       "<table border=\"1\" class=\"dataframe\">\n",
       "  <thead>\n",
       "    <tr style=\"text-align: right;\">\n",
       "      <th></th>\n",
       "      <th>Date</th>\n",
       "      <th>ticker</th>\n",
       "      <th>Open</th>\n",
       "      <th>High</th>\n",
       "      <th>Low</th>\n",
       "      <th>Close</th>\n",
       "      <th>Volume</th>\n",
       "      <th>Dividends</th>\n",
       "      <th>Stock Splits</th>\n",
       "      <th>trailingPE</th>\n",
       "      <th>...</th>\n",
       "      <th>profitMargins</th>\n",
       "      <th>revenueGrowth</th>\n",
       "      <th>dividendYield</th>\n",
       "      <th>totalDebt</th>\n",
       "      <th>freeCashflow</th>\n",
       "      <th>tipo</th>\n",
       "      <th>empresa</th>\n",
       "      <th>slug</th>\n",
       "      <th>setor</th>\n",
       "      <th>industria</th>\n",
       "    </tr>\n",
       "  </thead>\n",
       "  <tbody>\n",
       "    <tr>\n",
       "      <th>0</th>\n",
       "      <td>2024-08-07 00:00:00-03:00</td>\n",
       "      <td>ABEV3</td>\n",
       "      <td>11.231811</td>\n",
       "      <td>11.687784</td>\n",
       "      <td>11.203895</td>\n",
       "      <td>11.641256</td>\n",
       "      <td>48591300</td>\n",
       "      <td>0.0</td>\n",
       "      <td>0.0</td>\n",
       "      <td>13.297873</td>\n",
       "      <td>...</td>\n",
       "      <td>0.16084</td>\n",
       "      <td>0.002</td>\n",
       "      <td>7.47</td>\n",
       "      <td>3157764096</td>\n",
       "      <td>1.793802e+10</td>\n",
       "      <td>ON</td>\n",
       "      <td>Ambev S/A</td>\n",
       "      <td>ambev-abev3</td>\n",
       "      <td>Consumo não-cíclico</td>\n",
       "      <td>Bebidas</td>\n",
       "    </tr>\n",
       "    <tr>\n",
       "      <th>1</th>\n",
       "      <td>2024-08-08 00:00:00-03:00</td>\n",
       "      <td>ABEV3</td>\n",
       "      <td>11.594729</td>\n",
       "      <td>11.687785</td>\n",
       "      <td>11.455146</td>\n",
       "      <td>11.501673</td>\n",
       "      <td>28173200</td>\n",
       "      <td>0.0</td>\n",
       "      <td>0.0</td>\n",
       "      <td>13.297873</td>\n",
       "      <td>...</td>\n",
       "      <td>0.16084</td>\n",
       "      <td>0.002</td>\n",
       "      <td>7.47</td>\n",
       "      <td>3157764096</td>\n",
       "      <td>1.793802e+10</td>\n",
       "      <td>ON</td>\n",
       "      <td>Ambev S/A</td>\n",
       "      <td>ambev-abev3</td>\n",
       "      <td>Consumo não-cíclico</td>\n",
       "      <td>Bebidas</td>\n",
       "    </tr>\n",
       "    <tr>\n",
       "      <th>2</th>\n",
       "      <td>2024-08-09 00:00:00-03:00</td>\n",
       "      <td>ABEV3</td>\n",
       "      <td>11.576117</td>\n",
       "      <td>11.613339</td>\n",
       "      <td>11.455145</td>\n",
       "      <td>11.585423</td>\n",
       "      <td>19122000</td>\n",
       "      <td>0.0</td>\n",
       "      <td>0.0</td>\n",
       "      <td>13.297873</td>\n",
       "      <td>...</td>\n",
       "      <td>0.16084</td>\n",
       "      <td>0.002</td>\n",
       "      <td>7.47</td>\n",
       "      <td>3157764096</td>\n",
       "      <td>1.793802e+10</td>\n",
       "      <td>ON</td>\n",
       "      <td>Ambev S/A</td>\n",
       "      <td>ambev-abev3</td>\n",
       "      <td>Consumo não-cíclico</td>\n",
       "      <td>Bebidas</td>\n",
       "    </tr>\n",
       "    <tr>\n",
       "      <th>3</th>\n",
       "      <td>2024-08-12 00:00:00-03:00</td>\n",
       "      <td>ABEV3</td>\n",
       "      <td>11.631950</td>\n",
       "      <td>11.678478</td>\n",
       "      <td>11.529590</td>\n",
       "      <td>11.529590</td>\n",
       "      <td>17501300</td>\n",
       "      <td>0.0</td>\n",
       "      <td>0.0</td>\n",
       "      <td>13.297873</td>\n",
       "      <td>...</td>\n",
       "      <td>0.16084</td>\n",
       "      <td>0.002</td>\n",
       "      <td>7.47</td>\n",
       "      <td>3157764096</td>\n",
       "      <td>1.793802e+10</td>\n",
       "      <td>ON</td>\n",
       "      <td>Ambev S/A</td>\n",
       "      <td>ambev-abev3</td>\n",
       "      <td>Consumo não-cíclico</td>\n",
       "      <td>Bebidas</td>\n",
       "    </tr>\n",
       "    <tr>\n",
       "      <th>4</th>\n",
       "      <td>2024-08-13 00:00:00-03:00</td>\n",
       "      <td>ABEV3</td>\n",
       "      <td>11.604034</td>\n",
       "      <td>11.780839</td>\n",
       "      <td>11.548200</td>\n",
       "      <td>11.697089</td>\n",
       "      <td>30082000</td>\n",
       "      <td>0.0</td>\n",
       "      <td>0.0</td>\n",
       "      <td>13.297873</td>\n",
       "      <td>...</td>\n",
       "      <td>0.16084</td>\n",
       "      <td>0.002</td>\n",
       "      <td>7.47</td>\n",
       "      <td>3157764096</td>\n",
       "      <td>1.793802e+10</td>\n",
       "      <td>ON</td>\n",
       "      <td>Ambev S/A</td>\n",
       "      <td>ambev-abev3</td>\n",
       "      <td>Consumo não-cíclico</td>\n",
       "      <td>Bebidas</td>\n",
       "    </tr>\n",
       "  </tbody>\n",
       "</table>\n",
       "<p>5 rows × 22 columns</p>\n",
       "</div>"
      ],
      "text/plain": [
       "                        Date ticker       Open       High        Low  \\\n",
       "0  2024-08-07 00:00:00-03:00  ABEV3  11.231811  11.687784  11.203895   \n",
       "1  2024-08-08 00:00:00-03:00  ABEV3  11.594729  11.687785  11.455146   \n",
       "2  2024-08-09 00:00:00-03:00  ABEV3  11.576117  11.613339  11.455145   \n",
       "3  2024-08-12 00:00:00-03:00  ABEV3  11.631950  11.678478  11.529590   \n",
       "4  2024-08-13 00:00:00-03:00  ABEV3  11.604034  11.780839  11.548200   \n",
       "\n",
       "       Close    Volume  Dividends  Stock Splits  trailingPE  ...  \\\n",
       "0  11.641256  48591300        0.0           0.0   13.297873  ...   \n",
       "1  11.501673  28173200        0.0           0.0   13.297873  ...   \n",
       "2  11.585423  19122000        0.0           0.0   13.297873  ...   \n",
       "3  11.529590  17501300        0.0           0.0   13.297873  ...   \n",
       "4  11.697089  30082000        0.0           0.0   13.297873  ...   \n",
       "\n",
       "   profitMargins  revenueGrowth  dividendYield   totalDebt  freeCashflow  \\\n",
       "0        0.16084          0.002           7.47  3157764096  1.793802e+10   \n",
       "1        0.16084          0.002           7.47  3157764096  1.793802e+10   \n",
       "2        0.16084          0.002           7.47  3157764096  1.793802e+10   \n",
       "3        0.16084          0.002           7.47  3157764096  1.793802e+10   \n",
       "4        0.16084          0.002           7.47  3157764096  1.793802e+10   \n",
       "\n",
       "   tipo    empresa         slug                setor industria  \n",
       "0    ON  Ambev S/A  ambev-abev3  Consumo não-cíclico   Bebidas  \n",
       "1    ON  Ambev S/A  ambev-abev3  Consumo não-cíclico   Bebidas  \n",
       "2    ON  Ambev S/A  ambev-abev3  Consumo não-cíclico   Bebidas  \n",
       "3    ON  Ambev S/A  ambev-abev3  Consumo não-cíclico   Bebidas  \n",
       "4    ON  Ambev S/A  ambev-abev3  Consumo não-cíclico   Bebidas  \n",
       "\n",
       "[5 rows x 22 columns]"
      ]
     },
     "execution_count": 456,
     "metadata": {},
     "output_type": "execute_result"
    }
   ],
   "source": [
    "# concatenação dos dados setoriais com a tabela de cotação\n",
    "tbl_cotacao_ibovespa = tbl_cotacao_ibovespa.merge(tbl_carteira_ibovespa.drop(['ticker'], axis=1), left_on='ticker', right_on='codigo', how='left')\n",
    "tbl_cotacao_ibovespa.drop(columns='codigo', axis=1, inplace=True)\n",
    "tbl_cotacao_ibovespa.head()"
   ]
  },
  {
   "cell_type": "code",
   "execution_count": 457,
   "id": "3dcec3b0",
   "metadata": {},
   "outputs": [
    {
     "data": {
      "text/plain": [
       "industria\n",
       "Empresas independentes e concessionárias elétricas        2880\n",
       "Gás e Petróleo                                            1920\n",
       "Metais e Mineração                                        1680\n",
       "Serviços bancários                                        1440\n",
       "Alimentos e tabaco                                        1200\n",
       "Atvidades Imobiliárias                                     960\n",
       "Varejistas especializados                                  960\n",
       "Seguro                                                     960\n",
       "Varejo de alimentos e medicamentos                         720\n",
       "Prestação de serviços de Saúde                             720\n",
       "Serviços de hotel e entretenimento                         480\n",
       "Serviços de frete e logística                              480\n",
       "Atividades Imobiliárias                                    480\n",
       "Serviços de telecomunicação                                480\n",
       "Colégio, faculdade e universidade                          480\n",
       "Banco de investimento e serviços associados                480\n",
       "Infraestrutura de transportes                              305\n",
       "Serviços de software e TI                                  240\n",
       "Papel e Produtos Florestais                                240\n",
       "Automóveis e peças                                         240\n",
       "Concessionárias de água e relacionados                     240\n",
       "Serviços de transporte de passageiros                      240\n",
       "Bebidas                                                    240\n",
       "Varejo diversificado                                       240\n",
       "Contêineres e Embalagens                                   240\n",
       "Produtos farmacêuticos                                     240\n",
       "Transporte Espacial e Defesa                               240\n",
       "Conglomerados de bens de consumo                           240\n",
       "Químicos                                                   240\n",
       "Máquinas,Ferramentas, veículos pesados, trens e navios     240\n",
       "Serviços e produtos pessoais e domésticos                   21\n",
       "Name: count, dtype: int64"
      ]
     },
     "execution_count": 457,
     "metadata": {},
     "output_type": "execute_result"
    }
   ],
   "source": [
    "# tratamento dos dados da coluna industria\n",
    "tbl_cotacao_ibovespa.industria = tbl_cotacao_ibovespa.industria.str.lstrip()\n",
    "tbl_cotacao_ibovespa.industria.value_counts()"
   ]
  },
  {
   "cell_type": "code",
   "execution_count": 458,
   "id": "476d15c9",
   "metadata": {},
   "outputs": [],
   "source": [
    "# transformação da coluna date em index do dataset\n",
    "tbl_cotacao_ibovespa.set_index('Date', drop=True, inplace=True)\n",
    "tbl_cotacao_ibovespa.index = pd.to_datetime(tbl_cotacao_ibovespa.index)"
   ]
  },
  {
   "cell_type": "markdown",
   "id": "9d390e28",
   "metadata": {},
   "source": [
    "# Gerar um novo historico para dados fundamentalistas para um novo processo de re-treino futuro do modelo\n",
    "geram uma repetição dos dados com a execução da api, não recuperando o histórico"
   ]
  },
  {
   "cell_type": "code",
   "execution_count": 459,
   "id": "16535b93",
   "metadata": {},
   "outputs": [
    {
     "name": "stdout",
     "output_type": "stream",
     "text": [
      "<class 'pandas.core.frame.DataFrame'>\n",
      "DatetimeIndex: 19766 entries, 2024-08-07 00:00:00-03:00 to 2025-07-24 00:00:00-03:00\n",
      "Data columns (total 21 columns):\n",
      " #   Column          Non-Null Count  Dtype  \n",
      "---  ------          --------------  -----  \n",
      " 0   ticker          19766 non-null  object \n",
      " 1   Open            19766 non-null  float64\n",
      " 2   High            19766 non-null  float64\n",
      " 3   Low             19766 non-null  float64\n",
      " 4   Close           19766 non-null  float64\n",
      " 5   Volume          19766 non-null  int64  \n",
      " 6   Dividends       19766 non-null  float64\n",
      " 7   Stock Splits    19766 non-null  float64\n",
      " 8   trailingPE      16886 non-null  float64\n",
      " 9   priceToBook     19766 non-null  float64\n",
      " 10  returnOnEquity  19526 non-null  float64\n",
      " 11  profitMargins   19766 non-null  float64\n",
      " 12  revenueGrowth   19526 non-null  float64\n",
      " 13  dividendYield   17585 non-null  float64\n",
      " 14  totalDebt       19766 non-null  int64  \n",
      " 15  freeCashflow    18326 non-null  float64\n",
      " 16  tipo            19766 non-null  object \n",
      " 17  empresa         19766 non-null  object \n",
      " 18  slug            19766 non-null  object \n",
      " 19  setor           19766 non-null  object \n",
      " 20  industria       19766 non-null  object \n",
      "dtypes: float64(13), int64(2), object(6)\n",
      "memory usage: 3.3+ MB\n"
     ]
    }
   ],
   "source": [
    "tbl_cotacao_ibovespa.info()"
   ]
  },
  {
   "cell_type": "code",
   "execution_count": 460,
   "id": "5cc413ab",
   "metadata": {},
   "outputs": [],
   "source": [
    "# nova iteração: remoção das colunas fundamentalistas,pois elas geram uma repetição dos dados com a execução da api, não recuperando o histórico\n",
    "tbl_cotacao_ibovespa.drop(columns=['Dividends',\n",
    "       'Stock Splits', 'trailingPE', 'priceToBook', 'returnOnEquity',\n",
    "       'profitMargins', 'revenueGrowth', 'dividendYield', 'totalDebt',\n",
    "       'freeCashflow'], axis=1, inplace=True)"
   ]
  },
  {
   "cell_type": "code",
   "execution_count": 461,
   "id": "dc0a25e3",
   "metadata": {},
   "outputs": [
    {
     "data": {
      "text/html": [
       "<div>\n",
       "<style scoped>\n",
       "    .dataframe tbody tr th:only-of-type {\n",
       "        vertical-align: middle;\n",
       "    }\n",
       "\n",
       "    .dataframe tbody tr th {\n",
       "        vertical-align: top;\n",
       "    }\n",
       "\n",
       "    .dataframe thead th {\n",
       "        text-align: right;\n",
       "    }\n",
       "</style>\n",
       "<table border=\"1\" class=\"dataframe\">\n",
       "  <thead>\n",
       "    <tr style=\"text-align: right;\">\n",
       "      <th></th>\n",
       "      <th>ticker</th>\n",
       "      <th>Open</th>\n",
       "      <th>High</th>\n",
       "      <th>Low</th>\n",
       "      <th>Close</th>\n",
       "      <th>Volume</th>\n",
       "      <th>tipo</th>\n",
       "      <th>empresa</th>\n",
       "      <th>slug</th>\n",
       "      <th>setor</th>\n",
       "      <th>industria</th>\n",
       "      <th>dayofweek</th>\n",
       "      <th>month</th>\n",
       "      <th>Feriado</th>\n",
       "    </tr>\n",
       "    <tr>\n",
       "      <th>Date</th>\n",
       "      <th></th>\n",
       "      <th></th>\n",
       "      <th></th>\n",
       "      <th></th>\n",
       "      <th></th>\n",
       "      <th></th>\n",
       "      <th></th>\n",
       "      <th></th>\n",
       "      <th></th>\n",
       "      <th></th>\n",
       "      <th></th>\n",
       "      <th></th>\n",
       "      <th></th>\n",
       "      <th></th>\n",
       "    </tr>\n",
       "  </thead>\n",
       "  <tbody>\n",
       "    <tr>\n",
       "      <th>2024-08-07 00:00:00-03:00</th>\n",
       "      <td>ABEV3</td>\n",
       "      <td>11.231811</td>\n",
       "      <td>11.687784</td>\n",
       "      <td>11.203895</td>\n",
       "      <td>11.641256</td>\n",
       "      <td>48591300</td>\n",
       "      <td>ON</td>\n",
       "      <td>Ambev S/A</td>\n",
       "      <td>ambev-abev3</td>\n",
       "      <td>Consumo não-cíclico</td>\n",
       "      <td>Bebidas</td>\n",
       "      <td>2</td>\n",
       "      <td>8</td>\n",
       "      <td>False</td>\n",
       "    </tr>\n",
       "    <tr>\n",
       "      <th>2024-08-08 00:00:00-03:00</th>\n",
       "      <td>ABEV3</td>\n",
       "      <td>11.594729</td>\n",
       "      <td>11.687785</td>\n",
       "      <td>11.455146</td>\n",
       "      <td>11.501673</td>\n",
       "      <td>28173200</td>\n",
       "      <td>ON</td>\n",
       "      <td>Ambev S/A</td>\n",
       "      <td>ambev-abev3</td>\n",
       "      <td>Consumo não-cíclico</td>\n",
       "      <td>Bebidas</td>\n",
       "      <td>3</td>\n",
       "      <td>8</td>\n",
       "      <td>False</td>\n",
       "    </tr>\n",
       "    <tr>\n",
       "      <th>2024-08-09 00:00:00-03:00</th>\n",
       "      <td>ABEV3</td>\n",
       "      <td>11.576117</td>\n",
       "      <td>11.613339</td>\n",
       "      <td>11.455145</td>\n",
       "      <td>11.585423</td>\n",
       "      <td>19122000</td>\n",
       "      <td>ON</td>\n",
       "      <td>Ambev S/A</td>\n",
       "      <td>ambev-abev3</td>\n",
       "      <td>Consumo não-cíclico</td>\n",
       "      <td>Bebidas</td>\n",
       "      <td>4</td>\n",
       "      <td>8</td>\n",
       "      <td>False</td>\n",
       "    </tr>\n",
       "    <tr>\n",
       "      <th>2024-08-12 00:00:00-03:00</th>\n",
       "      <td>ABEV3</td>\n",
       "      <td>11.631950</td>\n",
       "      <td>11.678478</td>\n",
       "      <td>11.529590</td>\n",
       "      <td>11.529590</td>\n",
       "      <td>17501300</td>\n",
       "      <td>ON</td>\n",
       "      <td>Ambev S/A</td>\n",
       "      <td>ambev-abev3</td>\n",
       "      <td>Consumo não-cíclico</td>\n",
       "      <td>Bebidas</td>\n",
       "      <td>0</td>\n",
       "      <td>8</td>\n",
       "      <td>False</td>\n",
       "    </tr>\n",
       "    <tr>\n",
       "      <th>2024-08-13 00:00:00-03:00</th>\n",
       "      <td>ABEV3</td>\n",
       "      <td>11.604034</td>\n",
       "      <td>11.780839</td>\n",
       "      <td>11.548200</td>\n",
       "      <td>11.697089</td>\n",
       "      <td>30082000</td>\n",
       "      <td>ON</td>\n",
       "      <td>Ambev S/A</td>\n",
       "      <td>ambev-abev3</td>\n",
       "      <td>Consumo não-cíclico</td>\n",
       "      <td>Bebidas</td>\n",
       "      <td>1</td>\n",
       "      <td>8</td>\n",
       "      <td>False</td>\n",
       "    </tr>\n",
       "  </tbody>\n",
       "</table>\n",
       "</div>"
      ],
      "text/plain": [
       "                          ticker       Open       High        Low      Close  \\\n",
       "Date                                                                           \n",
       "2024-08-07 00:00:00-03:00  ABEV3  11.231811  11.687784  11.203895  11.641256   \n",
       "2024-08-08 00:00:00-03:00  ABEV3  11.594729  11.687785  11.455146  11.501673   \n",
       "2024-08-09 00:00:00-03:00  ABEV3  11.576117  11.613339  11.455145  11.585423   \n",
       "2024-08-12 00:00:00-03:00  ABEV3  11.631950  11.678478  11.529590  11.529590   \n",
       "2024-08-13 00:00:00-03:00  ABEV3  11.604034  11.780839  11.548200  11.697089   \n",
       "\n",
       "                             Volume tipo    empresa         slug  \\\n",
       "Date                                                               \n",
       "2024-08-07 00:00:00-03:00  48591300   ON  Ambev S/A  ambev-abev3   \n",
       "2024-08-08 00:00:00-03:00  28173200   ON  Ambev S/A  ambev-abev3   \n",
       "2024-08-09 00:00:00-03:00  19122000   ON  Ambev S/A  ambev-abev3   \n",
       "2024-08-12 00:00:00-03:00  17501300   ON  Ambev S/A  ambev-abev3   \n",
       "2024-08-13 00:00:00-03:00  30082000   ON  Ambev S/A  ambev-abev3   \n",
       "\n",
       "                                         setor industria  dayofweek  month  \\\n",
       "Date                                                                         \n",
       "2024-08-07 00:00:00-03:00  Consumo não-cíclico   Bebidas          2      8   \n",
       "2024-08-08 00:00:00-03:00  Consumo não-cíclico   Bebidas          3      8   \n",
       "2024-08-09 00:00:00-03:00  Consumo não-cíclico   Bebidas          4      8   \n",
       "2024-08-12 00:00:00-03:00  Consumo não-cíclico   Bebidas          0      8   \n",
       "2024-08-13 00:00:00-03:00  Consumo não-cíclico   Bebidas          1      8   \n",
       "\n",
       "                           Feriado  \n",
       "Date                                \n",
       "2024-08-07 00:00:00-03:00    False  \n",
       "2024-08-08 00:00:00-03:00    False  \n",
       "2024-08-09 00:00:00-03:00    False  \n",
       "2024-08-12 00:00:00-03:00    False  \n",
       "2024-08-13 00:00:00-03:00    False  "
      ]
     },
     "execution_count": 461,
     "metadata": {},
     "output_type": "execute_result"
    }
   ],
   "source": [
    "# inserção de dados temporais no dataset\n",
    "tbl_cotacao_ibovespa = dados_temporais(df=tbl_cotacao_ibovespa)\n",
    "tbl_cotacao_ibovespa.head()\n"
   ]
  },
  {
   "cell_type": "code",
   "execution_count": 462,
   "id": "1b8ce37b",
   "metadata": {},
   "outputs": [],
   "source": [
    "# transformação da colunas Feriado no formato int\n",
    "tbl_cotacao_ibovespa['Feriado'] = tbl_cotacao_ibovespa['Feriado'].astype(int)"
   ]
  },
  {
   "cell_type": "markdown",
   "id": "ea70734e",
   "metadata": {},
   "source": [
    "P/L (Preço sobre Lucro) (trailingPE): Quanto o mercado paga por cada real de lucro da empresa. Ajuda a ver se a ação está cara ou barata em relação ao lucro.\n",
    "\n",
    "P/VP (Preço sobre Valor Patrimonial) (priceToBook): Compara o preço da ação com o valor contábil dos ativos da empresa. Indica se a ação está acima ou abaixo do seu valor patrimonial.\n",
    "\n",
    "ROE (Retorno sobre o Patrimônio Líquido) (returnOnEquity): Rentabilidade da empresa sobre o capital próprio investido pelos acionistas. Um ROE alto mostra boa gestão.\n",
    "\n",
    "Margem Líquida (profitMargins): Porcentagem da receita que se transforma em lucro líquido. Indica a eficiência da empresa em gerar lucro das vendas.\n",
    "\n",
    "Crescimento de Receita (revenueGrowth): Aumento percentual das vendas da empresa. Essencial para avaliar a expansão e potencial de mercado.\n",
    "\n",
    "Dividend Yield (dividendYield): Retorno em dividendos que a ação oferece em relação ao seu preço. Importante para quem busca renda passiva.\n",
    "\n",
    "Dívida Total (totalDebt): Montante total de obrigações financeiras da empresa. Ajuda a avaliar a saúde financeira e o risco.\n",
    "\n",
    "Fluxo de Caixa Livre (freeCashflow): Dinheiro que sobra para a empresa após todas as despesas e investimentos. Sinaliza a capacidade da empresa de gerar caixa puro."
   ]
  },
  {
   "cell_type": "markdown",
   "id": "6d46e236",
   "metadata": {},
   "source": [
    "## Análise"
   ]
  },
  {
   "cell_type": "code",
   "execution_count": 463,
   "id": "49111c4f",
   "metadata": {},
   "outputs": [
    {
     "name": "stdout",
     "output_type": "stream",
     "text": [
      "<class 'pandas.core.frame.DataFrame'>\n",
      "DatetimeIndex: 19766 entries, 2024-08-07 00:00:00-03:00 to 2025-07-24 00:00:00-03:00\n",
      "Data columns (total 14 columns):\n",
      " #   Column     Non-Null Count  Dtype  \n",
      "---  ------     --------------  -----  \n",
      " 0   ticker     19766 non-null  object \n",
      " 1   Open       19766 non-null  float64\n",
      " 2   High       19766 non-null  float64\n",
      " 3   Low        19766 non-null  float64\n",
      " 4   Close      19766 non-null  float64\n",
      " 5   Volume     19766 non-null  int64  \n",
      " 6   tipo       19766 non-null  object \n",
      " 7   empresa    19766 non-null  object \n",
      " 8   slug       19766 non-null  object \n",
      " 9   setor      19766 non-null  object \n",
      " 10  industria  19766 non-null  object \n",
      " 11  dayofweek  19766 non-null  int32  \n",
      " 12  month      19766 non-null  int32  \n",
      " 13  Feriado    19766 non-null  int32  \n",
      "dtypes: float64(4), int32(3), int64(1), object(6)\n",
      "memory usage: 2.0+ MB\n"
     ]
    }
   ],
   "source": [
    "# informações da tabela\n",
    "tbl_cotacao_ibovespa.info()"
   ]
  },
  {
   "cell_type": "code",
   "execution_count": 464,
   "id": "4babd59a",
   "metadata": {},
   "outputs": [
    {
     "name": "stdout",
     "output_type": "stream",
     "text": [
      "2025-08-10 16:08:03,813 | INFO | src.data.preprocessing | Agrupamento selecionado: ['setor', 'industria'], filtragem dataset:['ticker'], método: nunique\n"
     ]
    },
    {
     "data": {
      "text/html": [
       "<div>\n",
       "<style scoped>\n",
       "    .dataframe tbody tr th:only-of-type {\n",
       "        vertical-align: middle;\n",
       "    }\n",
       "\n",
       "    .dataframe tbody tr th {\n",
       "        vertical-align: top;\n",
       "    }\n",
       "\n",
       "    .dataframe thead th {\n",
       "        text-align: right;\n",
       "    }\n",
       "</style>\n",
       "<table border=\"1\" class=\"dataframe\">\n",
       "  <thead>\n",
       "    <tr style=\"text-align: right;\">\n",
       "      <th></th>\n",
       "      <th>setor</th>\n",
       "      <th>industria</th>\n",
       "      <th>ticker</th>\n",
       "    </tr>\n",
       "  </thead>\n",
       "  <tbody>\n",
       "    <tr>\n",
       "      <th>0</th>\n",
       "      <td>Saúde</td>\n",
       "      <td>Prestação de serviços de Saúde</td>\n",
       "      <td>1</td>\n",
       "    </tr>\n",
       "    <tr>\n",
       "      <th>1</th>\n",
       "      <td>Serviços acadêmicos e educacionais</td>\n",
       "      <td>Colégio, faculdade e universidade</td>\n",
       "      <td>1</td>\n",
       "    </tr>\n",
       "    <tr>\n",
       "      <th>2</th>\n",
       "      <td>Consumo cíclico</td>\n",
       "      <td>Automóveis e peças</td>\n",
       "      <td>1</td>\n",
       "    </tr>\n",
       "    <tr>\n",
       "      <th>3</th>\n",
       "      <td>Consumo cíclico</td>\n",
       "      <td>Serviços de hotel e entretenimento</td>\n",
       "      <td>2</td>\n",
       "    </tr>\n",
       "    <tr>\n",
       "      <th>4</th>\n",
       "      <td>Consumo cíclico</td>\n",
       "      <td>Varejistas especializados</td>\n",
       "      <td>4</td>\n",
       "    </tr>\n",
       "  </tbody>\n",
       "</table>\n",
       "</div>"
      ],
      "text/plain": [
       "                                 setor                           industria  \\\n",
       "0                                Saúde      Prestação de serviços de Saúde   \n",
       "1   Serviços acadêmicos e educacionais   Colégio, faculdade e universidade   \n",
       "2                      Consumo cíclico                  Automóveis e peças   \n",
       "3                      Consumo cíclico  Serviços de hotel e entretenimento   \n",
       "4                      Consumo cíclico           Varejistas especializados   \n",
       "\n",
       "   ticker  \n",
       "0       1  \n",
       "1       1  \n",
       "2       1  \n",
       "3       2  \n",
       "4       4  "
      ]
     },
     "execution_count": 464,
     "metadata": {},
     "output_type": "execute_result"
    }
   ],
   "source": [
    "# verificação da quantidade de ações por industria\n",
    "empresas_por_industria = agrupar_dados(df=tbl_cotacao_ibovespa, cols_agrup=['setor', 'industria'], cols_filter=['ticker'], agr='nunique').reset_index()\n",
    "empresas_por_industria.head()"
   ]
  },
  {
   "cell_type": "code",
   "execution_count": 465,
   "id": "bc08a391",
   "metadata": {},
   "outputs": [
    {
     "data": {
      "text/html": [
       "<div>\n",
       "<style scoped>\n",
       "    .dataframe tbody tr th:only-of-type {\n",
       "        vertical-align: middle;\n",
       "    }\n",
       "\n",
       "    .dataframe tbody tr th {\n",
       "        vertical-align: top;\n",
       "    }\n",
       "\n",
       "    .dataframe thead th {\n",
       "        text-align: right;\n",
       "    }\n",
       "</style>\n",
       "<table border=\"1\" class=\"dataframe\">\n",
       "  <thead>\n",
       "    <tr style=\"text-align: right;\">\n",
       "      <th></th>\n",
       "      <th>setor</th>\n",
       "      <th>count_industria_setor</th>\n",
       "    </tr>\n",
       "  </thead>\n",
       "  <tbody>\n",
       "    <tr>\n",
       "      <th>0</th>\n",
       "      <td>Saúde</td>\n",
       "      <td>1</td>\n",
       "    </tr>\n",
       "    <tr>\n",
       "      <th>1</th>\n",
       "      <td>Serviços acadêmicos e educacionais</td>\n",
       "      <td>1</td>\n",
       "    </tr>\n",
       "    <tr>\n",
       "      <th>2</th>\n",
       "      <td>Consumo cíclico</td>\n",
       "      <td>4</td>\n",
       "    </tr>\n",
       "    <tr>\n",
       "      <th>3</th>\n",
       "      <td>Consumo não-cíclico</td>\n",
       "      <td>5</td>\n",
       "    </tr>\n",
       "    <tr>\n",
       "      <th>4</th>\n",
       "      <td>Energia</td>\n",
       "      <td>1</td>\n",
       "    </tr>\n",
       "    <tr>\n",
       "      <th>5</th>\n",
       "      <td>Financeiro</td>\n",
       "      <td>3</td>\n",
       "    </tr>\n",
       "    <tr>\n",
       "      <th>6</th>\n",
       "      <td>Imóveis</td>\n",
       "      <td>2</td>\n",
       "    </tr>\n",
       "    <tr>\n",
       "      <th>7</th>\n",
       "      <td>Indústria</td>\n",
       "      <td>5</td>\n",
       "    </tr>\n",
       "    <tr>\n",
       "      <th>8</th>\n",
       "      <td>Materiais básicos</td>\n",
       "      <td>4</td>\n",
       "    </tr>\n",
       "    <tr>\n",
       "      <th>9</th>\n",
       "      <td>Saúde</td>\n",
       "      <td>2</td>\n",
       "    </tr>\n",
       "    <tr>\n",
       "      <th>10</th>\n",
       "      <td>Serviços acadêmicos e educacionais</td>\n",
       "      <td>1</td>\n",
       "    </tr>\n",
       "    <tr>\n",
       "      <th>11</th>\n",
       "      <td>Tecnologia</td>\n",
       "      <td>2</td>\n",
       "    </tr>\n",
       "    <tr>\n",
       "      <th>12</th>\n",
       "      <td>Utilidades</td>\n",
       "      <td>2</td>\n",
       "    </tr>\n",
       "  </tbody>\n",
       "</table>\n",
       "</div>"
      ],
      "text/plain": [
       "                                  setor  count_industria_setor\n",
       "0                                 Saúde                      1\n",
       "1    Serviços acadêmicos e educacionais                      1\n",
       "2                       Consumo cíclico                      4\n",
       "3                   Consumo não-cíclico                      5\n",
       "4                               Energia                      1\n",
       "5                            Financeiro                      3\n",
       "6                               Imóveis                      2\n",
       "7                             Indústria                      5\n",
       "8                     Materiais básicos                      4\n",
       "9                                 Saúde                      2\n",
       "10   Serviços acadêmicos e educacionais                      1\n",
       "11                           Tecnologia                      2\n",
       "12                           Utilidades                      2"
      ]
     },
     "execution_count": 465,
     "metadata": {},
     "output_type": "execute_result"
    }
   ],
   "source": [
    "industrias_por_setor = tbl_cotacao_ibovespa.groupby('setor')['industria'].nunique().reset_index(name='count_industria_setor')\n",
    "industrias_por_setor"
   ]
  },
  {
   "cell_type": "code",
   "execution_count": 466,
   "id": "2b8b62ec",
   "metadata": {},
   "outputs": [
    {
     "data": {
      "text/html": [
       "<div>\n",
       "<style scoped>\n",
       "    .dataframe tbody tr th:only-of-type {\n",
       "        vertical-align: middle;\n",
       "    }\n",
       "\n",
       "    .dataframe tbody tr th {\n",
       "        vertical-align: top;\n",
       "    }\n",
       "\n",
       "    .dataframe thead th {\n",
       "        text-align: right;\n",
       "    }\n",
       "</style>\n",
       "<table border=\"1\" class=\"dataframe\">\n",
       "  <thead>\n",
       "    <tr style=\"text-align: right;\">\n",
       "      <th></th>\n",
       "      <th>setor</th>\n",
       "      <th>count_ticker_setor</th>\n",
       "    </tr>\n",
       "  </thead>\n",
       "  <tbody>\n",
       "    <tr>\n",
       "      <th>0</th>\n",
       "      <td>Saúde</td>\n",
       "      <td>1</td>\n",
       "    </tr>\n",
       "    <tr>\n",
       "      <th>1</th>\n",
       "      <td>Serviços acadêmicos e educacionais</td>\n",
       "      <td>1</td>\n",
       "    </tr>\n",
       "    <tr>\n",
       "      <th>2</th>\n",
       "      <td>Consumo cíclico</td>\n",
       "      <td>8</td>\n",
       "    </tr>\n",
       "    <tr>\n",
       "      <th>3</th>\n",
       "      <td>Consumo não-cíclico</td>\n",
       "      <td>11</td>\n",
       "    </tr>\n",
       "    <tr>\n",
       "      <th>4</th>\n",
       "      <td>Energia</td>\n",
       "      <td>8</td>\n",
       "    </tr>\n",
       "  </tbody>\n",
       "</table>\n",
       "</div>"
      ],
      "text/plain": [
       "                                 setor  count_ticker_setor\n",
       "0                                Saúde                   1\n",
       "1   Serviços acadêmicos e educacionais                   1\n",
       "2                      Consumo cíclico                   8\n",
       "3                  Consumo não-cíclico                  11\n",
       "4                              Energia                   8"
      ]
     },
     "execution_count": 466,
     "metadata": {},
     "output_type": "execute_result"
    }
   ],
   "source": [
    "# verificação da quantidade de ações por setor\n",
    "empresas_por_setor = tbl_cotacao_ibovespa.groupby(['setor'])['ticker'].nunique().reset_index(name='count_ticker_setor')\n",
    "empresas_por_setor.head()"
   ]
  },
  {
   "cell_type": "code",
   "execution_count": 467,
   "id": "e63e77d9",
   "metadata": {},
   "outputs": [
    {
     "data": {
      "text/plain": [
       "ticker       0\n",
       "Open         0\n",
       "High         0\n",
       "Low          0\n",
       "Close        0\n",
       "Volume       0\n",
       "tipo         0\n",
       "empresa      0\n",
       "slug         0\n",
       "setor        0\n",
       "industria    0\n",
       "dayofweek    0\n",
       "month        0\n",
       "Feriado      0\n",
       "dtype: int64"
      ]
     },
     "execution_count": 467,
     "metadata": {},
     "output_type": "execute_result"
    }
   ],
   "source": [
    "# verificação de nulos\n",
    "tbl_cotacao_ibovespa.isna().sum()"
   ]
  },
  {
   "cell_type": "code",
   "execution_count": 468,
   "id": "085be347",
   "metadata": {},
   "outputs": [],
   "source": [
    "#valores_nulos = tbl_cotacao_ibovespa[tbl_cotacao_ibovespa.isnull().any(axis=1)][['ticker', 'trailingPE', 'dividendYield', 'freeCashflow']]\n",
    "#valores_nulos.head()"
   ]
  },
  {
   "cell_type": "markdown",
   "id": "4f904642",
   "metadata": {},
   "source": [
    "# Prenchimento de nulos\n",
    "Para novos dados no pipeline, usaremos o método de preenchimento ffill ou com a média movel até o dia anterior para preenchimento dos valores nulos no glue."
   ]
  },
  {
   "cell_type": "code",
   "execution_count": 469,
   "id": "868f5710",
   "metadata": {},
   "outputs": [],
   "source": [
    "# tratamento dos valores nulos: interpolação em cascata\n",
    "#tbl_cotacao_ibovespa = tratamento_nulo_dados_setor_industria(df=tbl_cotacao_ibovespa, colunas=['trailingPE','returnOnEquity','revenueGrowth','dividendYield','freeCashflow'])\n",
    "#tbl_cotacao_ibovespa.head()"
   ]
  },
  {
   "cell_type": "code",
   "execution_count": 470,
   "id": "b0181e1f",
   "metadata": {},
   "outputs": [
    {
     "data": {
      "text/plain": [
       "0"
      ]
     },
     "execution_count": 470,
     "metadata": {},
     "output_type": "execute_result"
    }
   ],
   "source": [
    "# verificação de duplicados\n",
    "tbl_carteira_ibovespa.duplicated().sum()"
   ]
  },
  {
   "cell_type": "code",
   "execution_count": 471,
   "id": "e2a838ec",
   "metadata": {},
   "outputs": [
    {
     "data": {
      "application/vnd.jupyter.widget-view+json": {
       "model_id": "18dfbe6775734358b096913cf0fd7572",
       "version_major": 2,
       "version_minor": 0
      },
      "text/plain": [
       "interactive(children=(Dropdown(description='coluna', options=('ABEV3', 'ALOS3', 'ASAI3', 'AURE3', 'AZZA3', 'B3…"
      ]
     },
     "metadata": {},
     "output_type": "display_data"
    }
   ],
   "source": [
    "# análise descritivos interativa dos dados\n",
    "boxplot_analise_descritiva_categorica(tbl_cotacao_ibovespa,distribuicao=(0.1,0.25,0.5,0.75,0.95,0.99), feature='ticker')"
   ]
  },
  {
   "cell_type": "markdown",
   "id": "67bcdcc3",
   "metadata": {},
   "source": []
  },
  {
   "cell_type": "code",
   "execution_count": 472,
   "id": "7fa5dc6c",
   "metadata": {},
   "outputs": [
    {
     "data": {
      "application/vnd.jupyter.widget-view+json": {
       "model_id": "7df168c4d54b4146b2dac9ce2601abca",
       "version_major": 2,
       "version_minor": 0
      },
      "text/plain": [
       "interactive(children=(Dropdown(description='coluna', options=('ABEV3', 'ALOS3', 'ASAI3', 'AURE3', 'AZZA3', 'B3…"
      ]
     },
     "metadata": {},
     "output_type": "display_data"
    }
   ],
   "source": [
    "# histograma do target com escala\n",
    "histograma_feature_categorica(tbl_cotacao_ibovespa[['ticker','Close']],feature='ticker')"
   ]
  },
  {
   "cell_type": "markdown",
   "id": "daba30fa",
   "metadata": {},
   "source": [
    "# Feature Extraction"
   ]
  },
  {
   "cell_type": "code",
   "execution_count": 473,
   "id": "51813493",
   "metadata": {},
   "outputs": [
    {
     "name": "stdout",
     "output_type": "stream",
     "text": [
      "2025-08-10 16:08:04,284 | INFO | src.data.preprocessing | Transformação cíclica com dias úteis para as colunas de dados temporais.\n"
     ]
    }
   ],
   "source": [
    "# transformação cíclica para dias uteis \n",
    "tbl_cotacao_ibovespa = transformacao_ciclica(df=tbl_cotacao_ibovespa, dias_uteis=True)"
   ]
  },
  {
   "cell_type": "markdown",
   "id": "65a0cda5",
   "metadata": {},
   "source": [
    "# análise de estacionariedade da serie para definição de lags e médias móveis"
   ]
  },
  {
   "cell_type": "code",
   "execution_count": 474,
   "id": "58f483d6",
   "metadata": {},
   "outputs": [
    {
     "data": {
      "application/vnd.jupyter.widget-view+json": {
       "model_id": "3041e47015a841ce878b365836af24c6",
       "version_major": 2,
       "version_minor": 0
      },
      "text/plain": [
       "interactive(children=(Dropdown(description='ticker', options=('ABEV3', 'ALOS3', 'ASAI3', 'AURE3', 'AZZA3', 'B3…"
      ]
     },
     "metadata": {},
     "output_type": "display_data"
    },
    {
     "data": {
      "application/vnd.jupyter.widget-view+json": {
       "model_id": "ec591438af794ec7a15420023229d1c6",
       "version_major": 2,
       "version_minor": 0
      },
      "text/plain": [
       "HTML(value='\\n        <p>🔍 <strong>Teste ADF - Close | Ticker: ABEV3</strong></p>\\n        <ul>\\n            <…"
      ]
     },
     "metadata": {},
     "output_type": "display_data"
    }
   ],
   "source": [
    "# teste de estacionariedade\n",
    "testar_estacionariedade_interativo(df= tbl_cotacao_ibovespa, coluna_valor = 'Close')"
   ]
  },
  {
   "cell_type": "code",
   "execution_count": 475,
   "id": "1e2ae7e7",
   "metadata": {},
   "outputs": [],
   "source": [
    "# gerar diferenciação do target para revalidar a estacionariedade da serie\n",
    "tbl_cotacao_ibovespa = diferenciar_serie_temporal(df=tbl_cotacao_ibovespa, target='Close')\n",
    "tbl_cotacao_ibovespa = diferenciar_serie_temporal(df=tbl_cotacao_ibovespa, target='Volume')\n",
    "tbl_cotacao_ibovespa = diferenciar_serie_temporal(df=tbl_cotacao_ibovespa, target='Open')\n",
    "tbl_cotacao_ibovespa = diferenciar_serie_temporal(df=tbl_cotacao_ibovespa, target='High')\n",
    "tbl_cotacao_ibovespa = diferenciar_serie_temporal(df=tbl_cotacao_ibovespa, target='Low')\n",
    "\n",
    "\n",
    "\n",
    "\n"
   ]
  },
  {
   "cell_type": "code",
   "execution_count": 476,
   "id": "95c4c549",
   "metadata": {},
   "outputs": [],
   "source": [
    "# inserção das colunas de janela para o target e colunas de performance da ação\n",
    "tbl_cotacao_ibovespa = gerar_features_temporais(df=tbl_cotacao_ibovespa,coluna_valor='Close_diff')\n",
    "tbl_cotacao_ibovespa = gerar_features_temporais(df=tbl_cotacao_ibovespa,coluna_valor='Volume_diff')\n",
    "tbl_cotacao_ibovespa = gerar_features_temporais(df=tbl_cotacao_ibovespa,coluna_valor='Open_diff')\n",
    "tbl_cotacao_ibovespa = gerar_features_temporais(df=tbl_cotacao_ibovespa,coluna_valor='High_diff')\n",
    "tbl_cotacao_ibovespa = gerar_features_temporais(df=tbl_cotacao_ibovespa,coluna_valor='Low_diff')\n"
   ]
  },
  {
   "cell_type": "code",
   "execution_count": 477,
   "id": "9dac928a",
   "metadata": {},
   "outputs": [],
   "source": [
    "tbl_cotacao_ibovespa['rsi'] = calcular_rsi(tbl_cotacao_ibovespa)"
   ]
  },
  {
   "cell_type": "code",
   "execution_count": 478,
   "id": "bd82c05f",
   "metadata": {},
   "outputs": [],
   "source": [
    "tbl_cotacao_ibovespa['macd'], tbl_cotacao_ibovespa['macd_signal'] = calcular_macd(tbl_cotacao_ibovespa)"
   ]
  },
  {
   "cell_type": "code",
   "execution_count": 479,
   "id": "4cfad291",
   "metadata": {},
   "outputs": [],
   "source": [
    "# 1. Calcule o 'retorno' diário\n",
    "tbl_cotacao_ibovespa['retorno_diario'] = tbl_cotacao_ibovespa.groupby('ticker')['Close'].pct_change()\n",
    "\n",
    "# 2. Calcule a 'diferença do retorno'\n",
    "# df['retorno_diff'] = retorno_hoje - retorno_ontem\n",
    "tbl_cotacao_ibovespa['retorno_diff'] = tbl_cotacao_ibovespa.groupby('ticker')['retorno_diario'].diff()\n",
    "\n",
    "# 3. Aplique o 'lag' para evitar vazamento\n",
    "# A nova feature \"retorno_diff_lag1\" representa a diferença do retorno do dia anterior vs. anteontem\n",
    "tbl_cotacao_ibovespa['retorno_diff_lag1'] = tbl_cotacao_ibovespa.groupby('ticker')['retorno_diff'].shift(1)\n",
    "\n",
    "# 4. Remova as colunas intermediárias e os NaNs\n",
    "tbl_cotacao_ibovespa = tbl_cotacao_ibovespa.drop(columns=['retorno_diario', 'retorno_diff'])"
   ]
  },
  {
   "cell_type": "code",
   "execution_count": 480,
   "id": "dae7bf32",
   "metadata": {},
   "outputs": [],
   "source": [
    "# 1. Calcule o 'retorno' diário\n",
    "tbl_cotacao_ibovespa['retorno_diario_volume'] = tbl_cotacao_ibovespa.groupby('ticker')['Volume'].pct_change()\n",
    "\n",
    "# 2. Calcule a 'diferença do retorno'\n",
    "# df['retorno_diff'] = retorno_hoje - retorno_ontem\n",
    "tbl_cotacao_ibovespa['retorno_diff_volume'] = tbl_cotacao_ibovespa.groupby('ticker')['retorno_diario_volume'].diff()\n",
    "\n",
    "# 3. Aplique o 'lag' para evitar vazamento\n",
    "# A nova feature \"retorno_diff_lag1\" representa a diferença do retorno do dia anterior vs. anteontem\n",
    "tbl_cotacao_ibovespa['retorno_diff_lag1_volume'] = tbl_cotacao_ibovespa.groupby('ticker')['retorno_diff_volume'].shift(1)\n",
    "\n",
    "# 4. Remova as colunas intermediárias e os NaNs\n",
    "tbl_cotacao_ibovespa = tbl_cotacao_ibovespa.drop(columns=['retorno_diario_volume', 'retorno_diff_volume'])"
   ]
  },
  {
   "cell_type": "code",
   "execution_count": 481,
   "id": "02e1ad73",
   "metadata": {},
   "outputs": [
    {
     "name": "stdout",
     "output_type": "stream",
     "text": [
      "<class 'pandas.core.frame.DataFrame'>\n",
      "DatetimeIndex: 19766 entries, 2024-08-07 00:00:00-03:00 to 2025-07-24 00:00:00-03:00\n",
      "Columns: 173 entries, ticker to retorno_diff_lag1_volume\n",
      "dtypes: float64(163), int32(3), int64(1), object(6)\n",
      "memory usage: 26.0+ MB\n"
     ]
    }
   ],
   "source": [
    "tbl_cotacao_ibovespa.info()"
   ]
  },
  {
   "cell_type": "code",
   "execution_count": 482,
   "id": "a758d6fb",
   "metadata": {},
   "outputs": [],
   "source": [
    "# remoção de linhas nulas para análise descritiva temporal\n",
    "tbl_cotacao_ibovespa.dropna(inplace=True)"
   ]
  },
  {
   "cell_type": "code",
   "execution_count": 483,
   "id": "952839d8",
   "metadata": {},
   "outputs": [
    {
     "data": {
      "text/plain": [
       "<Axes: title={'center': 'Historico da ação'}, xlabel='Date'>"
      ]
     },
     "execution_count": 483,
     "metadata": {},
     "output_type": "execute_result"
    },
    {
     "data": {
      "image/png": "[encoded data removed]",
      "text/plain": [
       "<Figure size 640x480 with 1 Axes>"
      ]
     },
     "metadata": {},
     "output_type": "display_data"
    }
   ],
   "source": [
    "# plotagem \n",
    "tbl_cotacao_ibovespa.query(\"ticker=='ABEV3'\")['Close_diff'].plot(kind='line', title='Historico da ação')"
   ]
  },
  {
   "cell_type": "code",
   "execution_count": 484,
   "id": "7d636ab5",
   "metadata": {},
   "outputs": [
    {
     "data": {
      "application/vnd.jupyter.widget-view+json": {
       "model_id": "a8feec54285b4efaab63a0dab4c1c605",
       "version_major": 2,
       "version_minor": 0
      },
      "text/plain": [
       "interactive(children=(Dropdown(description='ticker', options=('ABEV3', 'ALOS3', 'ASAI3', 'AURE3', 'AZZA3', 'B3…"
      ]
     },
     "metadata": {},
     "output_type": "display_data"
    },
    {
     "data": {
      "application/vnd.jupyter.widget-view+json": {
       "model_id": "ab9554330365447b9b333d7680fea310",
       "version_major": 2,
       "version_minor": 0
      },
      "text/plain": [
       "HTML(value='\\n        <p>🔍 <strong>Teste ADF - Close_diff | Ticker: ABEV3</strong></p>\\n        <ul>\\n        …"
      ]
     },
     "metadata": {},
     "output_type": "display_data"
    }
   ],
   "source": [
    "# teste de estacionariedade com diferenciacao do target\n",
    "testar_estacionariedade_interativo(df= tbl_cotacao_ibovespa, coluna_valor = 'Close_diff')"
   ]
  },
  {
   "cell_type": "code",
   "execution_count": 485,
   "id": "7ec84423",
   "metadata": {},
   "outputs": [
    {
     "data": {
      "application/vnd.jupyter.widget-view+json": {
       "model_id": "9c292d78ac354cce8fe42beaf8e0fdcb",
       "version_major": 2,
       "version_minor": 0
      },
      "text/plain": [
       "VBox(children=(Dropdown(description='Ticker:', layout=Layout(width='300px'), options=('ABEV3', 'ALOS3', 'ASAI3…"
      ]
     },
     "metadata": {},
     "output_type": "display_data"
    }
   ],
   "source": [
    "# decomposicao da serie temporal diferenciada\n",
    "grafico_decomposicao_temporal_interativo(df= tbl_cotacao_ibovespa, target = 'Close_diff', period=5)"
   ]
  },
  {
   "cell_type": "code",
   "execution_count": 486,
   "id": "b39befb7",
   "metadata": {},
   "outputs": [
    {
     "data": {
      "application/vnd.jupyter.widget-view+json": {
       "model_id": "ae99b1732d9b464eab69283d8cc3594a",
       "version_major": 2,
       "version_minor": 0
      },
      "text/plain": [
       "VBox(children=(Dropdown(description='Ticker:', layout=Layout(width='300px'), options=('ABEV3', 'ALOS3', 'ASAI3…"
      ]
     },
     "metadata": {},
     "output_type": "display_data"
    }
   ],
   "source": [
    "# gráfico de autocorrelacao para definição do número de lags e médias móveis\n",
    "grafico_acf_interativo(df=tbl_cotacao_ibovespa,coluna_valor = 'Close_diff',max_lags=30)"
   ]
  },
  {
   "cell_type": "code",
   "execution_count": 487,
   "id": "aba3c4e4",
   "metadata": {},
   "outputs": [
    {
     "data": {
      "application/vnd.jupyter.widget-view+json": {
       "model_id": "08fad0eb4be04b4da57664d02ac42ce7",
       "version_major": 2,
       "version_minor": 0
      },
      "text/plain": [
       "VBox(children=(Dropdown(description='Ticker:', layout=Layout(width='300px'), options=('ABEV3', 'ALOS3', 'ASAI3…"
      ]
     },
     "metadata": {},
     "output_type": "display_data"
    }
   ],
   "source": [
    "# gráfico de autocorrelacao parcial para definição do número de lags e médias móveis\n",
    "grafico_pacf_interativo(df=tbl_cotacao_ibovespa,coluna_valor = 'Close_diff',max_lags=9)"
   ]
  },
  {
   "cell_type": "code",
   "execution_count": 488,
   "id": "0a32a07c",
   "metadata": {},
   "outputs": [],
   "source": [
    "# Considerações sobre colunas criadas para teste de modelo"
   ]
  },
  {
   "cell_type": "code",
   "execution_count": 489,
   "id": "24710433",
   "metadata": {},
   "outputs": [],
   "source": [
    "# remoção de colunas para gerar dataset para validação de modelos\n",
    "tbl_cotacao_ibovespa.drop(columns=['empresa','slug', 'Open', 'High','Low','Close','Volume','Feriado', 'month','dayofweek'], axis=1, inplace=True)"
   ]
  },
  {
   "cell_type": "code",
   "execution_count": 490,
   "id": "9b1ec58f",
   "metadata": {},
   "outputs": [],
   "source": [
    "# renome das colunas para treinamento do modelo\n",
    "dicionario = {\"ticker\":\"acao\",\n",
    "       \"Close_diff\":\"close_diff\", \"lag_1_Close_diff\":\"lag_1_close_diff\",\n",
    "       \"lag_2_Close_diff\":\"lag_2_close_diff\", \"lag_3_Close_diff\":\"lag_3_close_diff\",\n",
    "        \"lag_5_Close_diff\":\"lag_5_close_diff\",\n",
    "       \"rolling_mean_3_Close_diff\":\"rolling_mean_3_close_diff\",\n",
    "       \"volatility_3_Close_diff\":\"volatility_3_close_diff\",\n",
    "       \"retorno_acumulado_3_Close_diff\":\"retorno_acumulado_3_close_diff\",\n",
    "       \"rolling_mean_5_Close_diff\":\"rolling_mean_5_close_diff\",\n",
    "       \"volatility_5_Close_diff\":\"volatility_5_close_diff\", \n",
    "       \"retorno_acumulado_5_Close_diff\":\"retorno_acumulado_5_close_diff\"}\n",
    "tbl_cotacao_ibovespa.rename(columns=dicionario, inplace=True)"
   ]
  },
  {
   "cell_type": "code",
   "execution_count": 491,
   "id": "2ed04450",
   "metadata": {},
   "outputs": [],
   "source": [
    "# salvar o dataset para treino e validação dos modelos\n",
    "tbl_cotacao_ibovespa.to_csv('../data/processed/tbl_cotacao_ibovespa_processed.csv', index=True)"
   ]
  },
  {
   "cell_type": "markdown",
   "id": "805bd9c6",
   "metadata": {},
   "source": [
    "# Insights do Análise Exploratória "
   ]
  },
  {
   "cell_type": "markdown",
   "id": "3d676e8c",
   "metadata": {},
   "source": [
    "# Recomendações de transformações para o Pipeline\n",
    "\n",
    "Variáveis Numéricas:\n",
    "    Normalização dos dados: Variabilidade maior que 3 desvios para dados com presença de valores zerados em alguns campos. Necessidade de aplicação de um power_transformer com método yeo-johnson.\n",
    "    Escalonamento: Colunas com variação de grandeza nas escalas. Valores monetários combinados com valores decimais, etc.\n",
    "    Feature Engineering: Criação das colunas de dados temporais para o index datetime. Transformação cíclica em formato dia útil para interpretação do modelo sobre o ciclo de datas. Aplicação de diferenciação no target para tratamento (suavização) de tendência. Construção de features de janela (lag, média móvel, desvio-padrão e valor acumulado) para interpretação do modelo. Esse processo será construído através de ETL Glue.\n",
    "\n",
    "\n",
    "Variáveis Categóricas:\n",
    "    Encoding: Aplicação de one-hot encoding para colunas com poucos valores categóricos.\n",
    "    Feature Engineering: Aplicação de target encoding simples para coluna acao, pela quantidade de variáveis e pela representatividade de registros por categoria (mesma quantidade para todas)."
   ]
  },
  {
   "cell_type": "markdown",
   "id": "dc5bfb23",
   "metadata": {},
   "source": [
    "# Recomendações de Transformações para o Pipeline\n",
    "\n",
    "### Variáveis Numéricas\n",
    "\n",
    "- **Normalização**: Foi observada alta variabilidade (maior que 3 desvios-padrão) em algumas colunas, com presença de valores zerados. Recomenda-se aplicar o `PowerTransformer` com o método *yeo-johnson* para ajustar a distribuição dessas variáveis.\n",
    "\n",
    "- **Escalonamento**: Algumas colunas apresentam escalas muito distintas (ex: valores monetários vs. proporções decimais). Será aplicado `StandardScaler` para uniformizar a amplitude das variáveis e facilitar o aprendizado dos modelos.\n",
    "\n",
    "- **Feature Engineering**:\n",
    "  - Geração de colunas temporais a partir do índice `datetime`, incluindo marcações como dia da semana, fim de semana, feriado e dia útil.\n",
    "  - Aplicação de codificação cíclica para atributos temporais (ex: dia do mês, dia da semana) a fim de preservar sua natureza periódica.\n",
    "  - Diferenciação da variável target (primeira ordem) para suavizar tendências e preparar o dado para modelagem temporal.\n",
    "  - Criação de variáveis derivadas com janelas móveis (lags, médias móveis, desvio-padrão e acumulados) para capturar padrões de dependência temporal.\n",
    "  - Todas essas transformações serão integradas a um processo de ETL no AWS Glue.\n",
    "\n",
    "---\n",
    "\n",
    "### Variáveis Categóricas\n",
    "\n",
    "- **Codificação (Encoding)**: Será utilizado *One-Hot Encoding* para variáveis com baixo número de categorias, garantindo interpretabilidade e boa performance nos modelos.\n",
    "\n",
    "- **Feature Engineering**:\n",
    "  - Aplicação de *Target Encoding* simples para a variável `acao`, devido ao número elevado de categorias e distribuição balanceada entre elas. Essa abordagem permite capturar a relação estatística entre a variável categórica e o target sem aumentar excessivamente a dimensionalidade.\n"
   ]
  },
  {
   "cell_type": "markdown",
   "id": "3ae2cd19",
   "metadata": {},
   "source": [
    "Seu texto é uma análise técnica bem sólida e demonstra um bom entendimento das transformações que o pipeline de machine learning precisa. A clareza das suas recomendações é um ponto forte.\n",
    "\n",
    "Aqui estão algumas sugestões para deixar o texto ainda mais claro e profissional, focando em melhorar a fluidez e a precisão da linguagem:\n",
    "\n",
    "Sugestões de Melhoria\n",
    "1. Organização e Clareza\n",
    "Estrutura da Seção de Variáveis Numéricas: Você pode agrupar as recomendações de forma mais lógica. Por exemplo, começar com o tratamento de valores e depois passar para a criação de novas features.\n",
    "\n",
    "Revisão do texto: Algumas frases podem ser simplificadas para facilitar a leitura. Por exemplo, em vez de \"Variabilidade maior que 3 desvios para dados com presença de valores zerados em alguns campos\", você poderia dizer \"Normalização (Yeo-Johnson) para dados com alta variabilidade e a presença de zeros.\"\n",
    "\n",
    "2. Adição de Detalhes Técnicos\n",
    "Normalização: Mencionar o motivo para usar power_transformer com yeo-johnson é excelente. Você poderia adicionar por que ele é uma boa escolha quando há zeros, mostrando mais profundidade no seu conhecimento.\n",
    "\n",
    "Escalonamento: Ser mais específico sobre qual técnica de escalonamento será usada (ex: StandardScaler ou MinMaxScaler) e o porquê dela ser a ideal para esses casos.\n",
    "\n",
    "Feature Engineering: O texto já é ótimo, mas poderia detalhar um pouco mais as \"colunas de dados temporais para o index datetime\". Por exemplo: \"Extração de features temporais do index datetime, como dia da semana, mês e ano, para capturar sazonalidade.\"\n",
    "\n",
    "Target Encoding: O texto está bom, mas você pode reforçar o motivo da escolha. Dizer que ele ajuda a reduzir a dimensionalidade e a capturar a relação entre a feature e a variável alvo é uma boa prática.\n",
    "\n",
    "Versão Otimizada\n",
    "Aqui está uma versão reescrita com base nas sugestões, mantendo suas ideias centrais:\n",
    "\n",
    "Recomendações de Transformações para o Pipeline\n",
    "\n",
    "Variáveis Numéricas\n",
    "Normalização: Para colunas com alta variabilidade e a presença de valores zero, será aplicado o PowerTransformer com o método Yeo-Johnson. Isso ajudará a estabilizar a variância e tornar a distribuição mais próxima da normal, um requisito para muitos modelos.\n",
    "\n",
    "Escalonamento: Para garantir que todas as features numéricas tenham a mesma escala, será utilizado o StandardScaler. Isso é fundamental para modelos que são sensíveis à magnitude dos dados, como SVMs ou regressão linear, evitando que features com valores maiores dominem o processo de otimização.\n",
    "\n",
    "Feature Engineering: Para enriquecer o conjunto de dados, serão criadas features de janela (lag, média móvel, desvio-padrão e valor acumulado) para capturar padrões e tendências. Além disso, o target será diferenciado para suavizar a tendência. Essas transformações serão implementadas via um processo de ETL Glue.\n",
    "\n",
    "Variáveis Categóricas\n",
    "Encoding: Colunas com poucos valores categóricos receberão o One-Hot Encoding para evitar a suposição de uma ordem entre as categorias. Para a coluna 'acao', devido à sua alta cardinalidade e à distribuição uniforme das categorias, será aplicado o Target Encoding para reduzir a dimensionalidade e capturar a relação com a variável alvo de forma mais eficiente."
   ]
  }
 ],
 "metadata": {
  "kernelspec": {
   "display_name": "etl-py3.11",
   "language": "python",
   "name": "python3"
  },
  "language_info": {
   "codemirror_mode": {
    "name": "ipython",
    "version": 3
   },
   "file_extension": ".py",
   "mimetype": "text/x-python",
   "name": "python",
   "nbconvert_exporter": "python",
   "pygments_lexer": "ipython3",
   "version": "3.11.9"
  }
 },
 "nbformat": 4,
 "nbformat_minor": 5
}
